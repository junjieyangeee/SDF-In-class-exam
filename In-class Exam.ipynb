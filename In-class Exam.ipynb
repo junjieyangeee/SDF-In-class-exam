{
 "cells": [
  {
   "cell_type": "code",
   "execution_count": 1,
   "id": "bd50982d",
   "metadata": {},
   "outputs": [],
   "source": [
    "import numpy as np\n",
    "import pandas as pd\n",
    "import yfinance as yf\n",
    "import matplotlib.pyplot as plt"
   ]
  },
  {
   "cell_type": "code",
   "execution_count": 2,
   "id": "508bf923",
   "metadata": {},
   "outputs": [
    {
     "name": "stdout",
     "output_type": "stream",
     "text": [
      "[*********************100%%**********************]  1 of 1 completed\n"
     ]
    }
   ],
   "source": [
    "# Define the start and end dates\n",
    "start_date = '2015-01-01'\n",
    "end_date = '2019-12-31'\n",
    "\n",
    "# Download  monthly stock prices\n",
    "yum_monthly_data = yf.download('YUM', start=start_date, end=end_date, interval='1mo')"
   ]
  },
  {
   "cell_type": "code",
   "execution_count": 21,
   "id": "4f84ae13",
   "metadata": {},
   "outputs": [
    {
     "name": "stdout",
     "output_type": "stream",
     "text": [
      "Yum Average Monthly Log Return: 1.29%\n",
      "Yum Annualized Return: 15.42%\n"
     ]
    }
   ],
   "source": [
    "# Calculate Monthly Log Returns & Annualized Return\n",
    "yum_monthly_data['LogRet'] = np.log(yum_monthly_data['Adj Close'] / yum_monthly_data['Adj Close'].shift(1))\n",
    "\n",
    "# Print Monthly Log Returns & Annualized Return\n",
    "yum_average_monthly_return = yum_monthly_data['LogRet'].mean()\n",
    "yum_annualized_return = yum_average_monthly_return * 12  # Assuming 12 months in a year\n",
    "\n",
    "print(f'Yum Average Monthly Log Return: {yum_average_monthly_return * 100:.2f}%')\n",
    "print(f'Yum Annualized Return: {yum_annualized_return * 100:.2f}%')"
   ]
  },
  {
   "cell_type": "code",
   "execution_count": 4,
   "id": "e3436781",
   "metadata": {},
   "outputs": [
    {
     "name": "stdout",
     "output_type": "stream",
     "text": [
      "Yum Annualized Volatility: 17.49%\n"
     ]
    }
   ],
   "source": [
    "# Calculate Annualised Volatility\n",
    "yum_annualized_volatility = yum_monthly_data['LogRet'].std() * np.sqrt(12)\n",
    "\n",
    "# Print Annualised Volatility\n",
    "print(f'Yum Annualized Volatility: {yum_annualized_volatility * 100:.2f}%')"
   ]
  },
  {
   "cell_type": "code",
   "execution_count": 5,
   "id": "5f5418d1",
   "metadata": {},
   "outputs": [
    {
     "name": "stdout",
     "output_type": "stream",
     "text": [
      "Requirement already satisfied: yesg in c:\\users\\eeeee\\anaconda3\\lib\\site-packages (2.1.1)\n",
      "Note: you may need to restart the kernel to use updated packages.\n"
     ]
    }
   ],
   "source": [
    "pip install yesg"
   ]
  },
  {
   "cell_type": "code",
   "execution_count": 6,
   "id": "4016f346",
   "metadata": {},
   "outputs": [],
   "source": [
    "import yesg"
   ]
  },
  {
   "cell_type": "code",
   "execution_count": 7,
   "id": "6108ec5d",
   "metadata": {},
   "outputs": [
    {
     "data": {
      "text/html": [
       "<div>\n",
       "<style scoped>\n",
       "    .dataframe tbody tr th:only-of-type {\n",
       "        vertical-align: middle;\n",
       "    }\n",
       "\n",
       "    .dataframe tbody tr th {\n",
       "        vertical-align: top;\n",
       "    }\n",
       "\n",
       "    .dataframe thead th {\n",
       "        text-align: right;\n",
       "    }\n",
       "</style>\n",
       "<table border=\"1\" class=\"dataframe\">\n",
       "  <thead>\n",
       "    <tr style=\"text-align: right;\">\n",
       "      <th></th>\n",
       "      <th>Total-Score</th>\n",
       "      <th>E-Score</th>\n",
       "      <th>S-Score</th>\n",
       "      <th>G-Score</th>\n",
       "    </tr>\n",
       "    <tr>\n",
       "      <th>Date</th>\n",
       "      <th></th>\n",
       "      <th></th>\n",
       "      <th></th>\n",
       "      <th></th>\n",
       "    </tr>\n",
       "  </thead>\n",
       "  <tbody>\n",
       "    <tr>\n",
       "      <th>2014-09-01</th>\n",
       "      <td>58.00</td>\n",
       "      <td>52.00</td>\n",
       "      <td>61.00</td>\n",
       "      <td>64.00</td>\n",
       "    </tr>\n",
       "    <tr>\n",
       "      <th>2014-10-01</th>\n",
       "      <td>58.00</td>\n",
       "      <td>52.00</td>\n",
       "      <td>61.00</td>\n",
       "      <td>64.00</td>\n",
       "    </tr>\n",
       "    <tr>\n",
       "      <th>2014-11-01</th>\n",
       "      <td>58.00</td>\n",
       "      <td>52.00</td>\n",
       "      <td>61.00</td>\n",
       "      <td>64.00</td>\n",
       "    </tr>\n",
       "    <tr>\n",
       "      <th>2014-12-01</th>\n",
       "      <td>58.00</td>\n",
       "      <td>51.00</td>\n",
       "      <td>63.00</td>\n",
       "      <td>64.00</td>\n",
       "    </tr>\n",
       "    <tr>\n",
       "      <th>2015-01-01</th>\n",
       "      <td>58.00</td>\n",
       "      <td>51.00</td>\n",
       "      <td>63.00</td>\n",
       "      <td>64.00</td>\n",
       "    </tr>\n",
       "    <tr>\n",
       "      <th>...</th>\n",
       "      <td>...</td>\n",
       "      <td>...</td>\n",
       "      <td>...</td>\n",
       "      <td>...</td>\n",
       "    </tr>\n",
       "    <tr>\n",
       "      <th>2022-04-01</th>\n",
       "      <td>NaN</td>\n",
       "      <td>NaN</td>\n",
       "      <td>NaN</td>\n",
       "      <td>NaN</td>\n",
       "    </tr>\n",
       "    <tr>\n",
       "      <th>2022-05-01</th>\n",
       "      <td>21.12</td>\n",
       "      <td>4.40</td>\n",
       "      <td>11.65</td>\n",
       "      <td>5.07</td>\n",
       "    </tr>\n",
       "    <tr>\n",
       "      <th>2022-06-01</th>\n",
       "      <td>NaN</td>\n",
       "      <td>NaN</td>\n",
       "      <td>NaN</td>\n",
       "      <td>NaN</td>\n",
       "    </tr>\n",
       "    <tr>\n",
       "      <th>2022-07-01</th>\n",
       "      <td>NaN</td>\n",
       "      <td>NaN</td>\n",
       "      <td>NaN</td>\n",
       "      <td>NaN</td>\n",
       "    </tr>\n",
       "    <tr>\n",
       "      <th>2022-08-01</th>\n",
       "      <td>20.55</td>\n",
       "      <td>4.46</td>\n",
       "      <td>11.65</td>\n",
       "      <td>4.44</td>\n",
       "    </tr>\n",
       "  </tbody>\n",
       "</table>\n",
       "<p>96 rows × 4 columns</p>\n",
       "</div>"
      ],
      "text/plain": [
       "            Total-Score  E-Score  S-Score  G-Score\n",
       "Date                                              \n",
       "2014-09-01        58.00    52.00    61.00    64.00\n",
       "2014-10-01        58.00    52.00    61.00    64.00\n",
       "2014-11-01        58.00    52.00    61.00    64.00\n",
       "2014-12-01        58.00    51.00    63.00    64.00\n",
       "2015-01-01        58.00    51.00    63.00    64.00\n",
       "...                 ...      ...      ...      ...\n",
       "2022-04-01          NaN      NaN      NaN      NaN\n",
       "2022-05-01        21.12     4.40    11.65     5.07\n",
       "2022-06-01          NaN      NaN      NaN      NaN\n",
       "2022-07-01          NaN      NaN      NaN      NaN\n",
       "2022-08-01        20.55     4.46    11.65     4.44\n",
       "\n",
       "[96 rows x 4 columns]"
      ]
     },
     "execution_count": 7,
     "metadata": {},
     "output_type": "execute_result"
    }
   ],
   "source": [
    "ESG = yesg.get_historic_esg('YUM')\n",
    "ESG"
   ]
  },
  {
   "cell_type": "code",
   "execution_count": 18,
   "id": "4da7edfa",
   "metadata": {},
   "outputs": [
    {
     "name": "stdout",
     "output_type": "stream",
     "text": [
      "            Total-Score  E-Score  S-Score  G-Score\n",
      "Date                                              \n",
      "2015-01-01        58.00    51.00    63.00    64.00\n",
      "2015-02-01        58.00    51.00    63.00    64.00\n",
      "2015-03-01        59.00    52.00    63.00    64.00\n",
      "2015-04-01        59.00    52.00    63.00    64.00\n",
      "2015-05-01        59.00    52.00    63.00    64.00\n",
      "2015-06-01        57.00    52.00    58.00    64.00\n",
      "2015-07-01        57.00    52.00    58.00    64.00\n",
      "2015-08-01        57.00    52.00    58.00    64.00\n",
      "2015-09-01        57.00    52.00    58.00    64.00\n",
      "2015-10-01        57.00    52.00    58.00    64.00\n",
      "2015-11-01        57.00    52.00    58.00    64.00\n",
      "2015-12-01        57.00    55.00    56.00    64.00\n",
      "2016-01-01        57.42    54.92    55.50    64.11\n",
      "2016-02-01        57.72    55.67    55.50    64.11\n",
      "2016-03-01        57.72    55.67    55.50    64.11\n",
      "2016-04-01        55.42    55.67    48.93    64.12\n",
      "2016-05-01        55.42    55.67    48.93    64.12\n",
      "2016-06-01        55.68    55.17    48.79    66.12\n",
      "2016-07-01        55.68    55.17    48.79    66.12\n",
      "2016-08-01        53.97    53.28    46.07    66.12\n",
      "2016-09-01        53.97    53.28    46.07    66.12\n",
      "2016-10-01        53.97    53.28    46.07    66.12\n",
      "2016-11-01        53.97    53.28    46.07    66.12\n",
      "2016-12-01        53.97    53.28    46.07    66.12\n",
      "2017-01-01        53.97    53.28    46.07    66.12\n",
      "2017-02-01        53.97    53.28    46.07    66.12\n",
      "2017-03-01        53.97    53.28    46.07    66.12\n",
      "2017-04-01        53.97    53.28    46.07    66.12\n",
      "2017-05-01        53.47    52.03    46.07    66.12\n",
      "2017-06-01        53.47    52.03    46.07    66.12\n",
      "2017-07-01        53.47    52.03    46.07    66.12\n",
      "2017-08-01        53.97    53.28    46.07    66.12\n",
      "2017-09-01        53.97    53.28    46.07    66.12\n",
      "2017-10-01        53.58    52.03    47.63    64.39\n",
      "2017-11-01        52.77    52.69    45.63    62.89\n",
      "2017-12-01        52.77    52.69    45.63    62.89\n",
      "2018-01-01        52.77    52.69    45.63    62.89\n",
      "2018-02-01        52.77    52.69    45.63    62.89\n",
      "2018-03-01        53.69    55.00    45.63    62.89\n",
      "2018-04-01        53.32    55.00    45.63    61.39\n",
      "2018-05-01        53.32    55.00    45.63    61.39\n",
      "2018-06-01        53.32    55.00    45.63    61.39\n",
      "2018-07-01        53.32    55.00    45.63    61.39\n",
      "2018-08-01        53.32    55.00    45.63    61.39\n",
      "2018-09-01        53.32    55.00    45.63    61.39\n",
      "2018-10-01        53.32    55.00    45.63    61.39\n",
      "2018-11-01        57.70    57.38    53.05    64.72\n",
      "2018-12-01        57.96    58.04    53.05    64.72\n",
      "2019-01-01        57.96    58.04    53.05    64.72\n",
      "2019-02-01        57.96    58.04    53.05    64.72\n",
      "2019-03-01        58.36    59.03    53.05    64.72\n",
      "2019-04-01        58.36    59.03    53.05    64.72\n",
      "2019-05-01        58.36    59.03    53.05    64.72\n",
      "2019-06-01        58.36    59.03    53.05    64.72\n",
      "2019-07-01        58.36    59.03    53.05    64.72\n",
      "2019-08-01        58.36    59.03    53.05    64.72\n",
      "2019-09-01        58.36    59.03    53.05    64.72\n",
      "2019-10-01        58.36    59.03    53.05    64.72\n",
      "2019-11-01        58.56    59.03    53.05    65.52\n",
      "2019-12-01        57.07    56.94    51.90    64.52\n"
     ]
    },
    {
     "data": {
      "text/plain": [
       "Text(0.5, 1.0, 'ESG for Apple Inc.')"
      ]
     },
     "execution_count": 18,
     "metadata": {},
     "output_type": "execute_result"
    },
    {
     "data": {
      "image/png": "[encoded data removed]",
      "text/plain": [
       "<Figure size 1000x600 with 1 Axes>"
      ]
     },
     "metadata": {},
     "output_type": "display_data"
    }
   ],
   "source": [
    "ESG.new = ESG.iloc[4:-32]\n",
    "print(ESG.new)\n",
    "\n",
    "# Plot the Figure\n",
    "ESG.new.plot(figsize=(10, 6))\n",
    "plt.xlabel('Time')\n",
    "plt.ylabel('score')\n",
    "plt.title('ESG for Apple Inc.')"
   ]
  },
  {
   "cell_type": "code",
   "execution_count": 9,
   "id": "7aa5bfe8",
   "metadata": {},
   "outputs": [
    {
     "name": "stdout",
     "output_type": "stream",
     "text": [
      "The correlation between stock price of YUM and it's total ESG score from Jan 2015 to Dec 2019 is 0.1420\n"
     ]
    }
   ],
   "source": [
    "# Calculate correlation\n",
    "correlation =yum_monthly_data['Adj Close'].corr(ESG.new['Total-Score'])\n",
    "\n",
    "# Print the correlation\n",
    "print(f\"The correlation between stock price of YUM and it's total ESG score from Jan 2015 to Dec 2019 is {correlation:.4f}\")"
   ]
  },
  {
   "cell_type": "code",
   "execution_count": 10,
   "id": "10a42ea3",
   "metadata": {},
   "outputs": [],
   "source": [
    "# Question 2\n",
    "# birth city: Prato, Italy. Month: Dec. Calculate: HDD"
   ]
  },
  {
   "cell_type": "code",
   "execution_count": 11,
   "id": "ec778927",
   "metadata": {},
   "outputs": [],
   "source": [
    "import numpy as np\n",
    "from datetime import datetime\n",
    "import matplotlib.pyplot as plt\n",
    "from meteostat import Point, Daily"
   ]
  },
  {
   "cell_type": "code",
   "execution_count": 12,
   "id": "86960d94",
   "metadata": {},
   "outputs": [],
   "source": [
    "# Set the time\n",
    "start = datetime(2022, 12, 1)\n",
    "end = datetime(2022, 12, 31)"
   ]
  },
  {
   "cell_type": "code",
   "execution_count": 13,
   "id": "536496d9",
   "metadata": {},
   "outputs": [],
   "source": [
    "# Specifying the Location\n",
    "location = Point(43.8777, 11.1022, 65)"
   ]
  },
  {
   "cell_type": "code",
   "execution_count": 14,
   "id": "ac25d86e",
   "metadata": {},
   "outputs": [],
   "source": [
    "# Fetching the Daily Data\n",
    "data = Daily(location, start, end)\n",
    "data = data.fetch()"
   ]
  },
  {
   "cell_type": "code",
   "execution_count": 15,
   "id": "c0d347eb",
   "metadata": {},
   "outputs": [
    {
     "name": "stdout",
     "output_type": "stream",
     "text": [
      "HDDs:  [9.8, 12.9, 9.0, 6.4, 5.4, 5.800000000000001, 6.800000000000001, 9.2, 6.0, 5.199999999999999, 9.8, 15.2, 12.6, 11.0, 8.6, 5.6, 6.800000000000001, 10.4, 12.8, 8.0, 7.4, 7.5, 6.6, 5.0, 5.0, 4.800000000000001, 4.199999999999999, 5.6, 5.0, 5.0, 4.199999999999999]\n",
      "Total HDD: 237.6\n"
     ]
    }
   ],
   "source": [
    "# HDD calculation\n",
    "T_base = 18\n",
    "hdds = [max(T_base - temp, 0) for temp in data.tavg]\n",
    "total_hdd = sum(hdds)\n",
    "print(\"HDDs: \", hdds)\n",
    "print(\"Total HDD:\", total_hdd)"
   ]
  },
  {
   "cell_type": "code",
   "execution_count": null,
   "id": "6704a838",
   "metadata": {},
   "outputs": [],
   "source": []
  }
 ],
 "metadata": {
  "kernelspec": {
   "display_name": "Python 3 (ipykernel)",
   "language": "python",
   "name": "python3"
  },
  "language_info": {
   "codemirror_mode": {
    "name": "ipython",
    "version": 3
   },
   "file_extension": ".py",
   "mimetype": "text/x-python",
   "name": "python",
   "nbconvert_exporter": "python",
   "pygments_lexer": "ipython3",
   "version": "3.11.5"
  }
 },
 "nbformat": 4,
 "nbformat_minor": 5
}
